{
 "cells": [
  {
   "cell_type": "code",
   "execution_count": 12,
   "id": "5ff77754",
   "metadata": {},
   "outputs": [],
   "source": [
    "a = 250"
   ]
  },
  {
   "cell_type": "code",
   "execution_count": 5,
   "id": "ee2fc440",
   "metadata": {
    "scrolled": true
   },
   "outputs": [
    {
     "name": "stdout",
     "output_type": "stream",
     "text": [
      "100\n"
     ]
    }
   ],
   "source": [
    "print(100)"
   ]
  },
  {
   "cell_type": "code",
   "execution_count": 17,
   "id": "c9e90e57",
   "metadata": {},
   "outputs": [
    {
     "data": {
      "text/plain": [
       "300"
      ]
     },
     "execution_count": 17,
     "metadata": {},
     "output_type": "execute_result"
    }
   ],
   "source": [
    "a\n"
   ]
  },
  {
   "cell_type": "code",
   "execution_count": null,
   "id": "33941d24",
   "metadata": {},
   "outputs": [],
   "source": []
  },
  {
   "cell_type": "code",
   "execution_count": 16,
   "id": "0960572d",
   "metadata": {},
   "outputs": [
    {
     "name": "stdout",
     "output_type": "stream",
     "text": [
      "300\n"
     ]
    }
   ],
   "source": [
    "print(a)"
   ]
  },
  {
   "cell_type": "code",
   "execution_count": 15,
   "id": "03335d46",
   "metadata": {},
   "outputs": [],
   "source": [
    "a = 300"
   ]
  },
  {
   "cell_type": "code",
   "execution_count": 14,
   "id": "57642ae1",
   "metadata": {},
   "outputs": [
    {
     "name": "stdout",
     "output_type": "stream",
     "text": [
      "250\n"
     ]
    }
   ],
   "source": [
    "print(a)"
   ]
  },
  {
   "cell_type": "code",
   "execution_count": 1,
   "id": "9a2df595",
   "metadata": {},
   "outputs": [],
   "source": [
    "# 주석은 샵을 쓴다\n",
    "# 숫자, 문자열, bool, 리스트, 튜플"
   ]
  },
  {
   "cell_type": "code",
   "execution_count": 2,
   "id": "bcb91127",
   "metadata": {},
   "outputs": [
    {
     "name": "stdout",
     "output_type": "stream",
     "text": [
      "<class 'str'>\n"
     ]
    }
   ],
   "source": [
    "print(type('hello!'))"
   ]
  },
  {
   "cell_type": "code",
   "execution_count": 3,
   "id": "32bc4501",
   "metadata": {},
   "outputs": [
    {
     "name": "stdout",
     "output_type": "stream",
     "text": [
      "hello\n"
     ]
    }
   ],
   "source": [
    "print('hello')"
   ]
  },
  {
   "cell_type": "code",
   "execution_count": 5,
   "id": "ef0b98a6",
   "metadata": {},
   "outputs": [
    {
     "name": "stdout",
     "output_type": "stream",
     "text": [
      "<class 'int'>\n"
     ]
    }
   ],
   "source": [
    "print(type(10))"
   ]
  },
  {
   "cell_type": "code",
   "execution_count": 2,
   "id": "972b0c9c",
   "metadata": {},
   "outputs": [
    {
     "name": "stdout",
     "output_type": "stream",
     "text": [
      "2\n"
     ]
    }
   ],
   "source": [
    "result1 = '안녕하세요'.find('하세')\n",
    "print(result1)"
   ]
  },
  {
   "cell_type": "code",
   "execution_count": 4,
   "id": "35f48521",
   "metadata": {},
   "outputs": [
    {
     "name": "stdout",
     "output_type": "stream",
     "text": [
      "[1, 2, 3, 4, 5, 6]\n"
     ]
    }
   ],
   "source": [
    "list_a = [1,2,3]\n",
    "list_b = [4,5,6]\n",
    "print(list_a+list_b)"
   ]
  },
  {
   "cell_type": "code",
   "execution_count": 3,
   "id": "d9ab4ddb",
   "metadata": {},
   "outputs": [
    {
     "name": "stdout",
     "output_type": "stream",
     "text": [
      "<class 'dict'> {}\n"
     ]
    }
   ],
   "source": [
    "dic_a = {\n",
    "    \n",
    "}\n",
    "\n",
    "print(type(dic_a), dic_a)"
   ]
  },
  {
   "cell_type": "code",
   "execution_count": 4,
   "id": "35ff43ec",
   "metadata": {
    "scrolled": true
   },
   "outputs": [
    {
     "name": "stdout",
     "output_type": "stream",
     "text": [
      "<class 'set'> {1, 2, 3}\n"
     ]
    }
   ],
   "source": [
    "dic_b = {\n",
    "    1,2,3\n",
    "}\n",
    "\n",
    "print(type(dic_b), dic_b)"
   ]
  },
  {
   "cell_type": "code",
   "execution_count": 6,
   "id": "e621702c",
   "metadata": {},
   "outputs": [
    {
     "name": "stdout",
     "output_type": "stream",
     "text": [
      "<class 'dict'> {'no': 7, 'name': '손흥민'}\n"
     ]
    }
   ],
   "source": [
    "dic_c = {\n",
    "    'no' : 7,\n",
    "    'name' : '손흥민'\n",
    "}\n",
    "print(type(dic_c), dic_c)"
   ]
  },
  {
   "cell_type": "code",
   "execution_count": 14,
   "id": "75f3f383",
   "metadata": {},
   "outputs": [
    {
     "name": "stdout",
     "output_type": "stream",
     "text": [
      "None\n",
      "존재하지 않는 key\n",
      "존재하지 않는 Key\n"
     ]
    }
   ],
   "source": [
    "key='team'\n",
    "playerName = dic_c.get('team')\n",
    "\n",
    "print(playerName)\n",
    "\n",
    "if playerName == None :\n",
    "    print('존재하지 않는 key')\n",
    "\n",
    "if key in dic_c :\n",
    "    print(dic_c[key])\n",
    "else : \n",
    "    print(\"존재하지 않는 Key\")\n",
    "    \n"
   ]
  },
  {
   "cell_type": "code",
   "execution_count": 16,
   "id": "cb41d74e",
   "metadata": {},
   "outputs": [
    {
     "name": "stdout",
     "output_type": "stream",
     "text": [
      "no 7\n",
      "name 손흥민\n"
     ]
    }
   ],
   "source": [
    "for key in dic_c :\n",
    "    print(key, dic_c[key])"
   ]
  },
  {
   "cell_type": "code",
   "execution_count": null,
   "id": "5dbf10d7",
   "metadata": {},
   "outputs": [],
   "source": [
    "# range() : 특정 범위의 숫자를 생성\n",
    "# range(n) : 0 ~ n-1 범위의 숫자 생성"
   ]
  },
  {
   "cell_type": "code",
   "execution_count": 21,
   "id": "f0e1dc50",
   "metadata": {},
   "outputs": [
    {
     "name": "stdout",
     "output_type": "stream",
     "text": [
      "<class 'range'> range(1, 10, 3)\n",
      "[1, 4, 7]\n",
      "반복\n",
      "반복\n",
      "반복\n"
     ]
    }
   ],
   "source": [
    "a = range(1, 10, 3)\n",
    "print(type(a), a)\n",
    "list_b = list(a)\n",
    "print(list_b)\n",
    "\n",
    "for i in a :\n",
    "    print('반복')"
   ]
  },
  {
   "cell_type": "code",
   "execution_count": 23,
   "id": "f26b9751",
   "metadata": {},
   "outputs": [
    {
     "name": "stdout",
     "output_type": "stream",
     "text": [
      "1 1\n",
      "5 2\n",
      "9 3\n",
      "4 4\n",
      "3 5\n",
      "15 6\n"
     ]
    }
   ],
   "source": [
    "list_c = [1,5,9,4,3,15]\n",
    "\n",
    "cnt = 0;\n",
    "\n",
    "for item in list_c :\n",
    "    cnt += 1\n",
    "    print(item, cnt)"
   ]
  },
  {
   "cell_type": "code",
   "execution_count": 24,
   "id": "83fb2baf",
   "metadata": {},
   "outputs": [
    {
     "name": "stdout",
     "output_type": "stream",
     "text": [
      "1 1\n",
      "2 5\n",
      "3 9\n",
      "4 4\n",
      "5 3\n",
      "6 15\n"
     ]
    }
   ],
   "source": [
    "for i in range(len(list_c)) : \n",
    "    print(i+1, list_c[i])"
   ]
  },
  {
   "cell_type": "code",
   "execution_count": 25,
   "id": "992021ab",
   "metadata": {},
   "outputs": [
    {
     "name": "stdout",
     "output_type": "stream",
     "text": [
      "5\n",
      "4\n",
      "3\n",
      "2\n",
      "1\n"
     ]
    }
   ],
   "source": [
    "for i in range(5,0,-1) :\n",
    "    print(i)"
   ]
  },
  {
   "cell_type": "code",
   "execution_count": 27,
   "id": "bf6b53eb",
   "metadata": {},
   "outputs": [
    {
     "name": "stdout",
     "output_type": "stream",
     "text": [
      "5\n",
      "4\n",
      "3\n",
      "2\n",
      "1\n"
     ]
    }
   ],
   "source": [
    "for i in reversed(range(1, 5+1)) :\n",
    "    print(i)"
   ]
  },
  {
   "cell_type": "code",
   "execution_count": 29,
   "id": "902c4ec1",
   "metadata": {},
   "outputs": [
    {
     "name": "stdout",
     "output_type": "stream",
     "text": [
      "0\n",
      "1\n",
      "2\n",
      "3\n",
      "4\n"
     ]
    }
   ],
   "source": [
    "i=0\n",
    "while i<5 :\n",
    "    print(i)\n",
    "    i += 1"
   ]
  },
  {
   "cell_type": "code",
   "execution_count": 33,
   "id": "a1576f27",
   "metadata": {},
   "outputs": [
    {
     "name": "stdout",
     "output_type": "stream",
     "text": [
      "[1, 2, 1, 2]\n",
      "[2, 1, 2]\n",
      "[2, 2]\n"
     ]
    }
   ],
   "source": [
    "list_d = [1,2,1,2]\n",
    "print(list_d)\n",
    "list_d.remove(1)\n",
    "print(list_d)\n",
    "\n",
    "###\n",
    "\n",
    "while 1 in list_d :\n",
    "    list_d.remove(1)\n",
    "    \n",
    "print(list_d)"
   ]
  },
  {
   "cell_type": "code",
   "execution_count": null,
   "id": "2c9ab258",
   "metadata": {},
   "outputs": [],
   "source": [
    "# 함수 : input -> 처리 -> return\n",
    "# 매개변수 처리 -> 가변 매개변수, 매개변수의 기본 값\n",
    "# def 함수이름() : ...return"
   ]
  },
  {
   "cell_type": "code",
   "execution_count": 34,
   "id": "b14990b6",
   "metadata": {},
   "outputs": [
    {
     "name": "stdout",
     "output_type": "stream",
     "text": [
      "안녕\n",
      "안녕\n",
      "안녕\n"
     ]
    }
   ],
   "source": [
    "def print_3() :\n",
    "    print('안녕')\n",
    "    print('안녕')\n",
    "    print('안녕')\n",
    "\n",
    "print_3()\n",
    "    "
   ]
  },
  {
   "cell_type": "code",
   "execution_count": 37,
   "id": "f8cd691f",
   "metadata": {},
   "outputs": [
    {
     "name": "stdout",
     "output_type": "stream",
     "text": [
      "hello~\n",
      "hello~\n",
      "hello~\n",
      "hello~\n",
      "hello~\n"
     ]
    }
   ],
   "source": [
    "def print_times(value, n) :\n",
    "    for i in range(n) :\n",
    "        print(value)\n",
    "        \n",
    "print_times('hello~', 5)"
   ]
  },
  {
   "cell_type": "code",
   "execution_count": 43,
   "id": "7a680d49",
   "metadata": {},
   "outputs": [
    {
     "name": "stdout",
     "output_type": "stream",
     "text": [
      "a\n",
      "b\n",
      "------\n",
      "a\n",
      "b\n",
      "------\n",
      "a\n",
      "b\n",
      "------\n"
     ]
    }
   ],
   "source": [
    "def print_n_times(n, *values) :\n",
    "    for i in range(n) : \n",
    "        for value in values :\n",
    "            print(value)\n",
    "        print('------')\n",
    "            \n",
    "print_n_times(3, 'a', 'b')"
   ]
  },
  {
   "cell_type": "code",
   "execution_count": 49,
   "id": "85dac794",
   "metadata": {},
   "outputs": [
    {
     "name": "stdout",
     "output_type": "stream",
     "text": [
      "60\n",
      "30\n"
     ]
    }
   ],
   "source": [
    "def test(a, b=10, c=10) :\n",
    "    print(a+b+c)\n",
    "    \n",
    "test(10, 20, 30)\n",
    "test(10)"
   ]
  },
  {
   "cell_type": "code",
   "execution_count": 46,
   "id": "137d240f",
   "metadata": {},
   "outputs": [
    {
     "name": "stdout",
     "output_type": "stream",
     "text": [
      "a\n",
      "b\n",
      "------\n",
      "a\n",
      "b\n",
      "------\n",
      "a\n",
      "b\n",
      "------\n"
     ]
    }
   ],
   "source": [
    "def print_n_times(*values, n=2) :\n",
    "    for i in range(n) : \n",
    "        for value in values :\n",
    "            print(value)\n",
    "        print('------')\n",
    "            \n",
    "print_n_times('a', 'b', n=3)"
   ]
  },
  {
   "cell_type": "code",
   "execution_count": 53,
   "id": "7cf7145d",
   "metadata": {},
   "outputs": [
    {
     "name": "stdout",
     "output_type": "stream",
     "text": [
      "5050\n",
      "55\n",
      "30\n"
     ]
    }
   ],
   "source": [
    "def sum_all(start=0, end=100, step=1) :\n",
    "    output = 0\n",
    "    for i in range(start, end+1, step) :\n",
    "        output += i\n",
    "    return output\n",
    "\n",
    "print(sum_all())\n",
    "print(sum_all(end=10))\n",
    "print(sum_all(end=10, step=2))\n",
    "    "
   ]
  },
  {
   "cell_type": "code",
   "execution_count": null,
   "id": "babfdd84",
   "metadata": {},
   "outputs": [],
   "source": []
  },
  {
   "cell_type": "code",
   "execution_count": null,
   "id": "a77313a1",
   "metadata": {},
   "outputs": [],
   "source": []
  },
  {
   "cell_type": "code",
   "execution_count": null,
   "id": "8ca44adb",
   "metadata": {},
   "outputs": [],
   "source": []
  },
  {
   "cell_type": "code",
   "execution_count": null,
   "id": "fab723a7",
   "metadata": {},
   "outputs": [],
   "source": []
  },
  {
   "cell_type": "code",
   "execution_count": null,
   "id": "185d2157",
   "metadata": {},
   "outputs": [],
   "source": []
  },
  {
   "cell_type": "code",
   "execution_count": null,
   "id": "c62cbd5c",
   "metadata": {},
   "outputs": [],
   "source": []
  },
  {
   "cell_type": "code",
   "execution_count": null,
   "id": "79881855",
   "metadata": {},
   "outputs": [],
   "source": []
  },
  {
   "cell_type": "code",
   "execution_count": null,
   "id": "2ce87422",
   "metadata": {},
   "outputs": [],
   "source": []
  },
  {
   "cell_type": "code",
   "execution_count": null,
   "id": "93fb99ff",
   "metadata": {},
   "outputs": [],
   "source": []
  },
  {
   "cell_type": "code",
   "execution_count": null,
   "id": "c7f345d2",
   "metadata": {},
   "outputs": [],
   "source": []
  }
 ],
 "metadata": {
  "kernelspec": {
   "display_name": "Python 3 (ipykernel)",
   "language": "python",
   "name": "python3"
  },
  "language_info": {
   "codemirror_mode": {
    "name": "ipython",
    "version": 3
   },
   "file_extension": ".py",
   "mimetype": "text/x-python",
   "name": "python",
   "nbconvert_exporter": "python",
   "pygments_lexer": "ipython3",
   "version": "3.9.13"
  }
 },
 "nbformat": 4,
 "nbformat_minor": 5
}
