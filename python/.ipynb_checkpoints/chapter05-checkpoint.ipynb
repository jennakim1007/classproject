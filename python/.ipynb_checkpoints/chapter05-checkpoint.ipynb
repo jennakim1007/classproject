{
 "cells": [
  {
   "cell_type": "code",
   "execution_count": 1,
   "id": "492244c1",
   "metadata": {},
   "outputs": [
    {
     "name": "stdout",
     "output_type": "stream",
     "text": [
      "<class 'list'>\n",
      "[1, 2, 3, 4, 5]\n",
      "--------\n",
      "<class 'numpy.ndarray'>\n",
      "[1 2 3 4 5]\n"
     ]
    }
   ],
   "source": [
    "import numpy as np\n",
    "\n",
    "a = [1,2,3,4,5]\n",
    "b = np.array(a)\n",
    "\n",
    "print(type(a))\n",
    "print(a)\n",
    "print('--------')\n",
    "print(type(b))\n",
    "print(b)\n"
   ]
  },
  {
   "cell_type": "code",
   "execution_count": 4,
   "id": "18d53b78",
   "metadata": {},
   "outputs": [
    {
     "name": "stdout",
     "output_type": "stream",
     "text": [
      "1\n",
      "1\n",
      "[1, 2, 3]\n",
      "[1 2 3]\n"
     ]
    }
   ],
   "source": [
    "print(a[0])\n",
    "print(b[0])\n",
    "print(a[0:3])\n",
    "print(b[0:3])\n"
   ]
  },
  {
   "cell_type": "code",
   "execution_count": 5,
   "id": "3fb2db77",
   "metadata": {},
   "outputs": [
    {
     "name": "stdout",
     "output_type": "stream",
     "text": [
      "[ 2  4  6  8 10]\n",
      "[ 2  4  6  8 10]\n"
     ]
    }
   ],
   "source": [
    "print(a+b)\n",
    "print(b+b)\n"
   ]
  },
  {
   "cell_type": "code",
   "execution_count": 9,
   "id": "0371c054",
   "metadata": {},
   "outputs": [
    {
     "name": "stdout",
     "output_type": "stream",
     "text": [
      "[1 2 3 4 5]\n",
      "[0.5 1.  1.5 2.  2.5]\n",
      "[0 1 1 2 2]\n",
      "[3 4 5 6 7]\n"
     ]
    }
   ],
   "source": [
    "print(b)\n",
    "print(b/2)\n",
    "print(b//2)\n",
    "print(b+2)"
   ]
  },
  {
   "cell_type": "code",
   "execution_count": 10,
   "id": "2a5275f8",
   "metadata": {},
   "outputs": [
    {
     "name": "stdout",
     "output_type": "stream",
     "text": [
      "0    1\n",
      "1    2\n",
      "2    3\n",
      "3    4\n",
      "4    5\n",
      "dtype: int64\n",
      "<class 'pandas.core.series.Series'>\n"
     ]
    }
   ],
   "source": [
    "import pandas as pd\n",
    "a = pd.Series([1,2,3,4,5])\n",
    "print(a)\n",
    "print(type(a))"
   ]
  },
  {
   "cell_type": "code",
   "execution_count": 11,
   "id": "b13c36f0",
   "metadata": {},
   "outputs": [
    {
     "name": "stdout",
     "output_type": "stream",
     "text": [
      "a    1\n",
      "b    2\n",
      "c    3\n",
      "d    4\n",
      "dtype: int64\n"
     ]
    }
   ],
   "source": [
    "a = pd.Series([1,2,3,4], index=['a','b','c','d'])\n",
    "print(a)"
   ]
  },
  {
   "cell_type": "code",
   "execution_count": 12,
   "id": "bc80d0e1",
   "metadata": {},
   "outputs": [
    {
     "name": "stdout",
     "output_type": "stream",
     "text": [
      "a    1\n",
      "b    2\n",
      "c    3\n",
      "dtype: int64\n"
     ]
    }
   ],
   "source": [
    "a = pd.Series({'a' : 1, 'b' : 2 , 'c' : 3})\n",
    "print(a)"
   ]
  },
  {
   "cell_type": "code",
   "execution_count": 20,
   "id": "7f6ec05d",
   "metadata": {},
   "outputs": [
    {
     "name": "stdout",
     "output_type": "stream",
     "text": [
      "a    [1, 1, 1]\n",
      "b    [2, 2, 2]\n",
      "c    [3, 3, 3]\n",
      "dtype: object\n",
      "<class 'pandas.core.series.Series'>\n",
      "   a  b  c\n",
      "0  1  2  3\n",
      "1  1  2  3\n",
      "2  1  2  3\n",
      "<class 'pandas.core.frame.DataFrame'>\n"
     ]
    }
   ],
   "source": [
    "a = pd.Series({'a' : [1,1,1], 'b' : [2,2,2], 'c' : [3,3,3]})\n",
    "b = pd.DataFrame({'a' : [1,1,1], 'b' : [2,2,2], 'c' : [3,3,3]})\n",
    "print(a)\n",
    "print(type(a))\n",
    "print(b)\n",
    "print(type(b))\n"
   ]
  },
  {
   "cell_type": "code",
   "execution_count": 21,
   "id": "fd65d3c0",
   "metadata": {},
   "outputs": [
    {
     "name": "stdout",
     "output_type": "stream",
     "text": [
      "   a  b  c\n",
      "0  1  3  3\n",
      "1  1  4  3\n",
      "2  1  5  3\n"
     ]
    }
   ],
   "source": [
    "b['b'] = [3,4,5]\n",
    "print(b)"
   ]
  },
  {
   "cell_type": "code",
   "execution_count": 23,
   "id": "e939ab33",
   "metadata": {},
   "outputs": [
    {
     "name": "stdout",
     "output_type": "stream",
     "text": [
      "   i  j  k\n",
      "x  1  3  3\n",
      "y  1  4  3\n",
      "z  1  5  3\n"
     ]
    }
   ],
   "source": [
    "b.index = ['x', 'y', 'z']\n",
    "b.columns = ['i', 'j', 'k']\n",
    "print(b)"
   ]
  },
  {
   "cell_type": "code",
   "execution_count": 24,
   "id": "9f3ee336",
   "metadata": {},
   "outputs": [
    {
     "name": "stdout",
     "output_type": "stream",
     "text": [
      "         i    j    k\n",
      "count  3.0  3.0  3.0\n",
      "mean   1.0  4.0  3.0\n",
      "std    0.0  1.0  0.0\n",
      "min    1.0  3.0  3.0\n",
      "25%    1.0  3.5  3.0\n",
      "50%    1.0  4.0  3.0\n",
      "75%    1.0  4.5  3.0\n",
      "max    1.0  5.0  3.0\n"
     ]
    }
   ],
   "source": [
    "print(b.describe())"
   ]
  },
  {
   "cell_type": "code",
   "execution_count": 25,
   "id": "34611ed4",
   "metadata": {},
   "outputs": [
    {
     "name": "stdout",
     "output_type": "stream",
     "text": [
      "i     3\n",
      "j    12\n",
      "k     9\n",
      "dtype: int64\n"
     ]
    }
   ],
   "source": [
    "# sum()\n",
    "print(b.sum())"
   ]
  },
  {
   "cell_type": "code",
   "execution_count": 26,
   "id": "b6098442",
   "metadata": {},
   "outputs": [
    {
     "name": "stdout",
     "output_type": "stream",
     "text": [
      "x    7\n",
      "y    8\n",
      "z    9\n",
      "dtype: int64\n"
     ]
    }
   ],
   "source": [
    "print(b.sum(axis=1))"
   ]
  },
  {
   "cell_type": "code",
   "execution_count": null,
   "id": "bdf83d3d",
   "metadata": {},
   "outputs": [],
   "source": [
    "data = pd.read_csv\n",
    "data"
   ]
  },
  {
   "cell_type": "code",
   "execution_count": null,
   "id": "92a8e3bb",
   "metadata": {},
   "outputs": [],
   "source": []
  },
  {
   "cell_type": "code",
   "execution_count": null,
   "id": "ab7bd9d1",
   "metadata": {},
   "outputs": [],
   "source": []
  },
  {
   "cell_type": "code",
   "execution_count": null,
   "id": "ae2f4447",
   "metadata": {},
   "outputs": [],
   "source": []
  },
  {
   "cell_type": "code",
   "execution_count": null,
   "id": "6a85d493",
   "metadata": {},
   "outputs": [],
   "source": []
  }
 ],
 "metadata": {
  "kernelspec": {
   "display_name": "Python 3 (ipykernel)",
   "language": "python",
   "name": "python3"
  },
  "language_info": {
   "codemirror_mode": {
    "name": "ipython",
    "version": 3
   },
   "file_extension": ".py",
   "mimetype": "text/x-python",
   "name": "python",
   "nbconvert_exporter": "python",
   "pygments_lexer": "ipython3",
   "version": "3.9.13"
  }
 },
 "nbformat": 4,
 "nbformat_minor": 5
}
